{
 "cells": [
  {
   "cell_type": "code",
   "execution_count": 36,
   "metadata": {},
   "outputs": [],
   "source": [
    "import numpy as np \n",
    "import importlib\n",
    "from scipy.io import loadmat\n",
    "import NNClass\n",
    "importlib.reload(NNClass)\n",
    "from NNClass import NeuralNetwork as NN\n",
    "from NNClass import mnistData as Data\n",
    "from sklearn.model_selection import train_test_split\n",
    "from sklearn.preprocessing import LabelBinarizer\n",
    "from sklearn import datasets\n",
    "\n",
    "debug = False\n",
    "from sklearn.metrics import classification_report"
   ]
  },
  {
   "cell_type": "markdown",
   "metadata": {},
   "source": [
    "# Neural network runthrough.\n",
    "First we generate the training and test data.\n",
    "\n",
    "For sklearns mnist database:"
   ]
  },
  {
   "cell_type": "code",
   "execution_count": 37,
   "metadata": {},
   "outputs": [
    {
     "name": "stdout",
     "output_type": "stream",
     "text": [
      "[INFO] loading MNIST dataset from sklearn...\n",
      "[INFO] Total samples: 1797, dim: 64\n",
      "[INFO] Training samples: 1347\n"
     ]
    }
   ],
   "source": [
    "print(\"[INFO] loading MNIST dataset from sklearn...\")\n",
    "digits = datasets.load_digits()\n",
    "image = digits.data.astype(\"float\")\n",
    "image = (image - image.min()) / (image.max() - image.min())\n",
    "print(\"[INFO] Total samples: {}, dim: {}\".format(image.shape[0],\n",
    "\timage.shape[1]))\n",
    "\n",
    "(trainX, testX, trainY, testY) = train_test_split(image,\n",
    "\tdigits.target, test_size=0.25)\n",
    "\n",
    "trainY = LabelBinarizer().fit_transform(trainY)\n",
    "testY = LabelBinarizer().fit_transform(testY)\n",
    "print(\"[INFO] Training samples: {}\".format(trainX.shape[0]))\n"
   ]
  },
  {
   "cell_type": "markdown",
   "metadata": {},
   "source": [
    "For our own PCA dimension reduced mnist database:"
   ]
  },
  {
   "cell_type": "code",
   "execution_count": 38,
   "metadata": {},
   "outputs": [
    {
     "name": "stdout",
     "output_type": "stream",
     "text": [
      "[INFO] loading MNIST dataset from mnist_all...\n",
      "[INFO] samples: 70000, dim: 10\n",
      "[INFO] Training samples: 60000\n"
     ]
    }
   ],
   "source": [
    "print(\"[INFO] loading MNIST dataset from mnist_all...\")\n",
    "data = Data(debug,PCA = True,PCA_num=10)\n",
    "file = \"mnist_all.mat\"\n",
    "data_set = loadmat(file)\n",
    "train_set, train_targets, test_set, test_targets = data.create_dataset(data_set)\n",
    "train_set = train_set/255\n",
    "test_set = test_set/255\n",
    "\n",
    "train_targets = LabelBinarizer().fit_transform(train_targets)\n",
    "test_targets = LabelBinarizer().fit_transform(test_targets)\n",
    "num_samples = train_set.shape[0] + test_set.shape[0]\n",
    "print(\"[INFO] samples: {}, dim: {}\".format(num_samples,\n",
    "\ttrain_set.shape[1]))\n",
    "print(\"[INFO] Training samples: {}\".format(train_set.shape[0]))"
   ]
  },
  {
   "cell_type": "markdown",
   "metadata": {},
   "source": [
    "For reduced PCA dimension reduced mnist dataset"
   ]
  },
  {
   "cell_type": "code",
   "execution_count": 39,
   "metadata": {},
   "outputs": [
    {
     "name": "stdout",
     "output_type": "stream",
     "text": [
      "[INFO] loading reduced MNIST dataset from sampled_data...\n",
      "[INFO] samples: 20000, dim: 10\n",
      "[INFO] Training samples: 10000\n"
     ]
    }
   ],
   "source": [
    "print(\"[INFO] loading reduced MNIST dataset from sampled_data...\")\n",
    "file = \"sampled_data.mat\"\n",
    "data_set_reduced = loadmat(file)\n",
    "train_set_reduced, train_targets_reduced = data.reduced_dataset(data_set_reduced)\n",
    "train_set_reduced = train_set_reduced/255\n",
    "train_targets_reduced = LabelBinarizer().fit_transform(train_targets_reduced)\n",
    "\n",
    "num_samples = train_set_reduced.shape[0] + test_set.shape[0]\n",
    "\n",
    "\n",
    "print(\"[INFO] samples: {}, dim: {}\".format(num_samples,\n",
    "\ttrain_set_reduced.shape[1]))\n",
    "print(\"[INFO] Training samples: {}\".format(train_set_reduced.shape[0]))"
   ]
  },
  {
   "cell_type": "markdown",
   "metadata": {},
   "source": [
    "We define the training data and the test data from the data set we want."
   ]
  },
  {
   "cell_type": "code",
   "execution_count": 40,
   "metadata": {},
   "outputs": [
    {
     "name": "stdout",
     "output_type": "stream",
     "text": [
      "Training data shape\t (60000, 10)\n",
      "Training targets shape\t (60000, 10)\n",
      "Test data shape\t\t (10000, 10)\n",
      "Test targets shape\t (10000, 10)\n"
     ]
    }
   ],
   "source": [
    "# training_data = trainX          # From MNIST data sklearn\n",
    "# test_data = testX               # From MNIST data sklearn\n",
    "# training_target = trainY        # From MNIST data sklearn\n",
    "# test_target = testY             # From MNIST data sklearn\n",
    "\n",
    "training_data = train_set       # From MNIST data set PCA\n",
    "test_data = test_set            # From MNIST data set PCA\n",
    "training_target = train_targets # From MNIST data set PCA\n",
    "test_target = test_targets      # From MNIST data set PCA\n",
    "\n",
    "# training_data = train_set_reduced       # From reduced MNIST data set PCA\n",
    "# test_data = test_set                    # From reduced MNIST data set PCA\n",
    "# training_target = train_targets_reduced # From reduced MNIST data set PCA\n",
    "# test_target = test_targets              # From reduced MNIST data set PCA\n",
    "\n",
    "print('Training data shape\\t',training_data.shape)\n",
    "print('Training targets shape\\t',training_target.shape)\n",
    "print('Test data shape\\t\\t',test_data.shape)\n",
    "print('Test targets shape\\t',test_target.shape)"
   ]
  },
  {
   "cell_type": "markdown",
   "metadata": {},
   "source": [
    "Then we define the structure of the network."
   ]
  },
  {
   "cell_type": "code",
   "execution_count": 41,
   "metadata": {},
   "outputs": [
    {
     "name": "stdout",
     "output_type": "stream",
     "text": [
      "[10, 64, 10]\n"
     ]
    }
   ],
   "source": [
    "inputSize = training_data.shape[1]\n",
    "outputSize = training_target.shape[1]\n",
    "\n",
    "Network_Size = [inputSize,\n",
    "                # 32,\n",
    "                # 16,\n",
    "                64,\n",
    "                outputSize]\n",
    "\n",
    "print(Network_Size)"
   ]
  },
  {
   "cell_type": "markdown",
   "metadata": {},
   "source": [
    "Then we initialize the network from the `NeuralNetwork` class.\n",
    "\n",
    "Activation function can be:\n",
    "\n",
    "'Sigmoid', \n",
    "'ReLu'"
   ]
  },
  {
   "cell_type": "code",
   "execution_count": 42,
   "metadata": {},
   "outputs": [
    {
     "name": "stdout",
     "output_type": "stream",
     "text": [
      "Initializing..\n",
      "Initializing done.  0m 0s\n",
      "... Neural Network: ...\n",
      "\t Network size: [10, 64, 10]\n",
      "\t Activation function:  Sigmoid\n",
      "\t Weights size:\n",
      "\t \t Layer 0: (10, 64) ( 640 )\n",
      "\t \t Layer 1: (64, 10) ( 640 )\n",
      "\t Biases: (Output bias: False)\n",
      "\t \t layer 1: 64\n"
     ]
    }
   ],
   "source": [
    "nn = NN(Network_Size,\n",
    "        activation_func='Sigmoid',\n",
    "        debug=debug,\n",
    "        learning_rate=0.01,\n",
    "        bias_output=False,\n",
    "        early_stop=False)\n",
    "nn.NNInfo()"
   ]
  },
  {
   "cell_type": "markdown",
   "metadata": {},
   "source": [
    "Now we train our network:"
   ]
  },
  {
   "cell_type": "code",
   "execution_count": 43,
   "metadata": {},
   "outputs": [
    {
     "name": "stdout",
     "output_type": "stream",
     "text": [
      "[INFO] epoch=1, loss=41549.5441248\n",
      "[INFO] epoch=10, loss=35423.6724228\n",
      "[INFO] epoch=20, loss=34584.1333812\n",
      "[INFO] epoch=30, loss=34124.7583794\n",
      "[INFO] epoch=40, loss=33858.0274362\n",
      "[INFO] epoch=50, loss=33750.4332406\n",
      "[INFO] epoch=60, loss=33629.2802566\n",
      "[INFO] epoch=70, loss=33483.0136469\n",
      "[INFO] epoch=80, loss=33397.4182277\n",
      "[INFO] epoch=90, loss=33215.5526353\n",
      "[INFO] epoch=100, loss=32984.4943554\n",
      "[INFO] epoch=110, loss=32681.3370239\n",
      "[INFO] epoch=120, loss=32499.0192312\n",
      "[INFO] epoch=130, loss=32284.1119575\n",
      "[INFO] epoch=140, loss=32143.6823557\n",
      "[INFO] epoch=150, loss=32174.3318923\n",
      "[INFO] epoch=160, loss=32234.3572135\n",
      "[INFO] epoch=170, loss=32263.6234212\n",
      "[INFO] epoch=180, loss=32357.5347287\n",
      "[INFO] epoch=190, loss=32487.7689643\n",
      "[INFO] epoch=200, loss=32571.1651591\n",
      "[INFO] epoch=210, loss=32694.7292394\n",
      "[INFO] epoch=220, loss=32797.5807518\n",
      "[INFO] epoch=230, loss=32924.4262262\n",
      "[INFO] epoch=240, loss=33015.6352471\n",
      "[INFO] epoch=250, loss=33097.0953766\n",
      "[INFO] epoch=260, loss=33181.1841518\n",
      "[INFO] epoch=270, loss=33277.9113119\n",
      "[INFO] epoch=280, loss=33360.8007816\n",
      "[INFO] epoch=290, loss=33442.1931137\n",
      "[INFO] epoch=300, loss=33498.9043963\n",
      "[INFO] epoch=310, loss=33575.6581566\n",
      "[INFO] epoch=320, loss=33725.1677943\n",
      "[INFO] epoch=330, loss=33868.4600361\n",
      "[INFO] epoch=340, loss=33955.1093709\n",
      "[INFO] epoch=350, loss=33997.0966735\n",
      "[INFO] epoch=360, loss=34017.1038732\n",
      "[INFO] epoch=370, loss=33996.1091570\n",
      "[INFO] epoch=380, loss=33922.9416308\n",
      "[INFO] epoch=390, loss=33832.0310181\n",
      "[INFO] epoch=400, loss=33738.0235045\n",
      "[INFO] epoch=410, loss=33626.0345460\n",
      "[INFO] epoch=420, loss=33547.0285832\n",
      "[INFO] epoch=430, loss=33544.6404967\n",
      "[INFO] epoch=440, loss=33564.9773882\n",
      "[INFO] epoch=450, loss=33587.5507437\n"
     ]
    },
    {
     "name": "stderr",
     "output_type": "stream",
     "text": [
      "c:\\Users\\gusta\\Documents\\Universitetet\\P7\\NNPart2\\NNClass.py:44: RuntimeWarning: overflow encountered in exp\n",
      "  return 1.0 / (1 + np.exp(-X))\n"
     ]
    },
    {
     "name": "stdout",
     "output_type": "stream",
     "text": [
      "[INFO] epoch=460, loss=33590.2112658\n",
      "[INFO] epoch=470, loss=33626.4488172\n",
      "[INFO] epoch=480, loss=33680.5683575\n",
      "[INFO] epoch=490, loss=33797.0903926\n",
      "[INFO] epoch=500, loss=33823.1303214\n",
      "[INFO] epoch=510, loss=33813.4572942\n",
      "[INFO] epoch=520, loss=33812.6743626\n",
      "[INFO] epoch=530, loss=33833.6674764\n",
      "[INFO] epoch=540, loss=33848.3502397\n",
      "[INFO] epoch=550, loss=33876.6778086\n",
      "[INFO] epoch=560, loss=33916.3915358\n",
      "[INFO] epoch=570, loss=33887.2813993\n",
      "[INFO] epoch=580, loss=33842.5790594\n",
      "[INFO] epoch=590, loss=33814.2354180\n",
      "[INFO] epoch=600, loss=33801.0673756\n",
      "[INFO] epoch=610, loss=33816.9611621\n",
      "[INFO] epoch=620, loss=33831.2285474\n",
      "[INFO] epoch=630, loss=33850.0030127\n",
      "[INFO] epoch=640, loss=33887.6562774\n",
      "[INFO] epoch=650, loss=33906.5315324\n",
      "[INFO] epoch=660, loss=33912.6915927\n",
      "[INFO] epoch=670, loss=33929.7444610\n",
      "[INFO] epoch=680, loss=33901.3827190\n",
      "[INFO] epoch=690, loss=33865.4526126\n",
      "[INFO] epoch=700, loss=33829.7503245\n",
      "[INFO] epoch=710, loss=33788.0450048\n",
      "[INFO] epoch=720, loss=33756.8574910\n",
      "[INFO] epoch=730, loss=33700.5732535\n",
      "[INFO] epoch=740, loss=33648.0124508\n",
      "[INFO] epoch=750, loss=33605.3525904\n",
      "[INFO] epoch=760, loss=33573.5614470\n",
      "[INFO] epoch=770, loss=33564.2819941\n",
      "[INFO] epoch=780, loss=33554.6611525\n",
      "[INFO] epoch=790, loss=33551.9095200\n",
      "[INFO] epoch=800, loss=33515.1605458\n",
      "[INFO] epoch=810, loss=33472.5671277\n",
      "[INFO] epoch=820, loss=33474.1462066\n",
      "[INFO] epoch=830, loss=33477.4770548\n",
      "[INFO] epoch=840, loss=33520.1307942\n",
      "[INFO] epoch=850, loss=33537.5543208\n",
      "[INFO] epoch=860, loss=33570.8201688\n",
      "[INFO] epoch=870, loss=33625.0956640\n",
      "[INFO] epoch=880, loss=33673.1625265\n",
      "[INFO] epoch=890, loss=33717.5571101\n",
      "[INFO] epoch=900, loss=33735.4213104\n",
      "[INFO] epoch=910, loss=33740.0138817\n",
      "[INFO] epoch=920, loss=33747.7063077\n",
      "[INFO] epoch=930, loss=33778.0842673\n",
      "[INFO] epoch=940, loss=33805.7263974\n",
      "[INFO] epoch=950, loss=33807.9082889\n",
      "[INFO] epoch=960, loss=33840.1232770\n",
      "[INFO] epoch=970, loss=33890.2460811\n",
      "[INFO] epoch=980, loss=33937.4987857\n",
      "[INFO] epoch=990, loss=33963.1023730\n",
      "[INFO] epoch=1000, loss=33973.3887516\n"
     ]
    }
   ],
   "source": [
    "nn.fit( training_data,\n",
    "        training_target,\n",
    "        epochs=1000,\n",
    "        update=10)"
   ]
  },
  {
   "cell_type": "markdown",
   "metadata": {},
   "source": [
    "Now we use the test data to check our model."
   ]
  },
  {
   "cell_type": "code",
   "execution_count": 44,
   "metadata": {},
   "outputs": [
    {
     "name": "stdout",
     "output_type": "stream",
     "text": [
      "[INFO] evaluating network...\n",
      "              precision    recall  f1-score   support\n",
      "\n",
      "           0       1.00      0.00      0.01       980\n",
      "           1       0.98      0.13      0.23      1135\n",
      "           2       0.29      0.00      0.00      1032\n",
      "           3       1.00      0.03      0.05      1010\n",
      "           4       0.00      0.00      0.00       982\n",
      "           5       0.10      0.00      0.01       892\n",
      "           6       0.24      0.16      0.19       958\n",
      "           7       0.00      0.00      0.00      1028\n",
      "           8       0.18      0.40      0.25       974\n",
      "           9       0.14      0.98      0.25      1009\n",
      "\n",
      "    accuracy                           0.17     10000\n",
      "   macro avg       0.39      0.17      0.10     10000\n",
      "weighted avg       0.40      0.17      0.10     10000\n",
      "\n"
     ]
    },
    {
     "name": "stderr",
     "output_type": "stream",
     "text": [
      "c:\\Users\\gusta\\AppData\\Local\\Programs\\Python\\Python311\\Lib\\site-packages\\sklearn\\metrics\\_classification.py:1531: UndefinedMetricWarning: Precision is ill-defined and being set to 0.0 in labels with no predicted samples. Use `zero_division` parameter to control this behavior.\n",
      "  _warn_prf(average, modifier, f\"{metric.capitalize()} is\", len(result))\n",
      "c:\\Users\\gusta\\AppData\\Local\\Programs\\Python\\Python311\\Lib\\site-packages\\sklearn\\metrics\\_classification.py:1531: UndefinedMetricWarning: Precision is ill-defined and being set to 0.0 in labels with no predicted samples. Use `zero_division` parameter to control this behavior.\n",
      "  _warn_prf(average, modifier, f\"{metric.capitalize()} is\", len(result))\n",
      "c:\\Users\\gusta\\AppData\\Local\\Programs\\Python\\Python311\\Lib\\site-packages\\sklearn\\metrics\\_classification.py:1531: UndefinedMetricWarning: Precision is ill-defined and being set to 0.0 in labels with no predicted samples. Use `zero_division` parameter to control this behavior.\n",
      "  _warn_prf(average, modifier, f\"{metric.capitalize()} is\", len(result))\n"
     ]
    }
   ],
   "source": [
    "print(\"[INFO] evaluating network...\")\n",
    "# for input in test_data:\n",
    "predictions = nn.predict(test_data)\n",
    "predictions = predictions.argmax(axis=1)\n",
    "\n",
    "print(classification_report(test_target.argmax(axis=1), predictions))"
   ]
  },
  {
   "cell_type": "code",
   "execution_count": 45,
   "metadata": {},
   "outputs": [
    {
     "data": {
      "image/png": "[encoded data removed]",
      "text/plain": [
       "<Figure size 1000x600 with 1 Axes>"
      ]
     },
     "metadata": {},
     "output_type": "display_data"
    }
   ],
   "source": [
    "nn.plot_loss()"
   ]
  }
 ],
 "metadata": {
  "kernelspec": {
   "display_name": "Python 3",
   "language": "python",
   "name": "python3"
  },
  "language_info": {
   "codemirror_mode": {
    "name": "ipython",
    "version": 3
   },
   "file_extension": ".py",
   "mimetype": "text/x-python",
   "name": "python",
   "nbconvert_exporter": "python",
   "pygments_lexer": "ipython3",
   "version": "3.11.9"
  }
 },
 "nbformat": 4,
 "nbformat_minor": 2
}
